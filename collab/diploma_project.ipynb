{
  "nbformat": 4,
  "nbformat_minor": 0,
  "metadata": {
    "colab": {
      "provenance": [],
      "collapsed_sections": [
        "5MsdPhYEgSEn",
        "kjQZOigmWm5h",
        "1eA6smlqIzBc",
        "qff23GVIhvuT",
        "evwh1kTDh8-Y",
        "DCNjpNsyoNpZ",
        "EM1xXGGjoBku"
      ]
    },
    "kernelspec": {
      "name": "python3",
      "display_name": "Python 3"
    },
    "language_info": {
      "name": "python"
    }
  },
  "cells": [
    {
      "cell_type": "markdown",
      "source": [
        "# Connect Google Drive"
      ],
      "metadata": {
        "id": "5MsdPhYEgSEn"
      }
    },
    {
      "cell_type": "code",
      "source": [
        "%cd ..\n",
        "from google.colab import drive\n",
        "drive.mount('/content/gdrive')\n"
      ],
      "metadata": {
        "colab": {
          "base_uri": "https://localhost:8080/"
        },
        "id": "S9bb4035lxU0",
        "outputId": "85f05152-b7b8-46a9-8d8c-c9e2028964df"
      },
      "execution_count": null,
      "outputs": [
        {
          "output_type": "stream",
          "name": "stdout",
          "text": [
            "/\n",
            "Mounted at /content/gdrive\n"
          ]
        }
      ]
    },
    {
      "cell_type": "markdown",
      "source": [
        "# Download the code"
      ],
      "metadata": {
        "id": "kjQZOigmWm5h"
      }
    },
    {
      "cell_type": "code",
      "source": [
        "!git clone https://github.com/antooni/afm-reader.git\n",
        "!pip install -r afm-reader/requirements.txt"
      ],
      "metadata": {
        "colab": {
          "base_uri": "https://localhost:8080/"
        },
        "id": "NP3JXLw_JUYw",
        "outputId": "b6a8eecb-c06e-4c41-ee80-a041448aabbb"
      },
      "execution_count": null,
      "outputs": [
        {
          "output_type": "stream",
          "name": "stdout",
          "text": [
            "Cloning into 'afm-reader'...\n",
            "remote: Enumerating objects: 254, done.\u001b[K\n",
            "remote: Counting objects: 100% (254/254), done.\u001b[K\n",
            "remote: Compressing objects: 100% (153/153), done.\u001b[K\n",
            "remote: Total 254 (delta 155), reused 185 (delta 96), pack-reused 0\u001b[K\n",
            "Receiving objects: 100% (254/254), 562.64 KiB | 7.12 MiB/s, done.\n",
            "Resolving deltas: 100% (155/155), done.\n",
            "Looking in indexes: https://pypi.org/simple, https://us-python.pkg.dev/colab-wheels/public/simple/\n",
            "Collecting NSFopen==1.1.13\n",
            "  Downloading NSFopen-1.1.13.tar.gz (23.1 MB)\n",
            "\u001b[K     |████████████████████████████████| 23.1 MB 88.2 MB/s \n",
            "\u001b[?25hCollecting watchdog==2.1.9\n",
            "  Downloading watchdog-2.1.9-py3-none-manylinux2014_x86_64.whl (78 kB)\n",
            "\u001b[K     |████████████████████████████████| 78 kB 7.2 MB/s \n",
            "\u001b[?25hBuilding wheels for collected packages: NSFopen\n",
            "  Building wheel for NSFopen (setup.py) ... \u001b[?25l\u001b[?25hdone\n",
            "  Created wheel for NSFopen: filename=NSFopen-1.1.13-py3-none-any.whl size=23095513 sha256=5d885683a3b9d549bb9ceede84fbea4bd1303f4c66355c25cac8a6c5cfa7a91a\n",
            "  Stored in directory: /root/.cache/pip/wheels/a8/8b/f9/1d3a7348718581971c91dcb012601c70828721c127ae1a7fc4\n",
            "Successfully built NSFopen\n",
            "Installing collected packages: watchdog, NSFopen\n",
            "Successfully installed NSFopen-1.1.13 watchdog-2.1.9\n"
          ]
        }
      ]
    },
    {
      "cell_type": "markdown",
      "source": [
        "# Config\n"
      ],
      "metadata": {
        "id": "1eA6smlqIzBc"
      }
    },
    {
      "cell_type": "markdown",
      "source": [
        "## [optional] Preview what is inside the file"
      ],
      "metadata": {
        "id": "qff23GVIhvuT"
      }
    },
    {
      "cell_type": "code",
      "source": [
        "!python afm-reader/src/preview.py /content/gdrive/MyDrive/afm/20220315_00010_PFM_Spectroscopy_PVDF_background_.nid"
      ],
      "metadata": {
        "id": "-TBxHdRCg8j2",
        "colab": {
          "base_uri": "https://localhost:8080/"
        },
        "outputId": "99a0daa1-653f-4cbe-f02c-aae12d80118a"
      },
      "execution_count": null,
      "outputs": [
        {
          "output_type": "stream",
          "name": "stdout",
          "text": [
            "Image  Forward   Deflection               [[-1.8322804809553885e-10, -2.541579313388352e...\n",
            "                 Z-Axis                   [[-1.0249975623562932e-06, -1.0812714921310543...\n",
            "                 2nd Lock-In Amplitude    [[1.041678623175123e-09, 1.0542471556088728e-0...\n",
            "                 2nd Lock-In Phase        [[-164.0459207072854, -163.87323305010796, -16...\n",
            "                 Z-Axis Sensor            [[-4.600744732283056e-06, -4.659072908665985e-...\n",
            "                 Tip voltage                                                            NaN\n",
            "       Backward  Deflection               [[-2.1143833147342834e-10, -2.8963963597057317...\n",
            "                 Z-Axis                   [[-1.3154151409864423e-06, -1.2591915795579556...\n",
            "                 2nd Lock-In Amplitude    [[1.2403463682066128e-09, 1.1697554702779478e-...\n",
            "                 2nd Lock-In Phase        [[-163.58873650431633, -164.0954815596342, -16...\n",
            "                 Z-Axis Sensor            [[-4.90713999895379e-06, -4.848306237487122e-0...\n",
            "                 Tip voltage                                                            NaN\n",
            "Spec   Forward   Deflection               [[1.545544595305834e-08, 1.5292669675126837e-0...\n",
            "                 Z-Axis                   [[2.249851837009192e-06, 2.2498486328870064e-0...\n",
            "                 2nd Lock-In Amplitude    [[1.6333724139327706e-11, 1.521991524857771e-1...\n",
            "                 2nd Lock-In Phase        [[-152.4641539156437, -142.92954627424479, -13...\n",
            "                 Z-Axis Sensor                                                          NaN\n",
            "                 Tip voltage              [[-0.00011768192052841187, 0.00220542773604393...\n",
            "       Backward  Deflection               [[1.3781543919825947e-08, 1.3684560593832219e-...\n",
            "                 Z-Axis                   [[2.249947790242732e-06, 2.2499379051849242e-0...\n",
            "                 2nd Lock-In Amplitude    [[5.760052979935325e-11, 5.696726053047119e-11...\n",
            "                 2nd Lock-In Phase        [[-168.68271209299564, -163.64583503454924, -1...\n",
            "                 Z-Axis Sensor                                                          NaN\n",
            "                 Tip voltage              [[0.0014104880392551422, 0.004882067441940308,...\n",
            "dtype: object\n"
          ]
        }
      ]
    },
    {
      "cell_type": "markdown",
      "source": [
        "## Documentation\n"
      ],
      "metadata": {
        "id": "evwh1kTDh8-Y"
      }
    },
    {
      "cell_type": "markdown",
      "source": [
        "\n",
        "- **source_path** - where are your .nid files located inside your Google Drive\n",
        "- **ouput_path** - where you want the program to put the results, I recommend subfolder inside source_path\n",
        "- **data** - set the name and channel of the data you want to include, if you do not know possible data channels run the [preview](#scrollTo=qff23GVIhvuT)\n",
        "  - `\"data_key\": [\"Key\",\"SubKey\",\"SubSubKey\"]`\n",
        "- **files** - csv files generator\n",
        "   ```\n",
        "  \"name_chosen_by_you\": {\n",
        "      \"data_key\": \"data_key_from_one_of_the_set_in_data\",\n",
        "      [optional] \"multiplier\": \"number\" \n",
        "      [optional] \"transpose\": \"True/False\" \n",
        "  }\n",
        "    ```\n",
        "- **plots** - plot generator\n",
        "  ```\n",
        "  \"name_chosen_by_you\": {\n",
        "      \"x_data\": [\"data_key\", \"data_key\"], //here you can include 1 or 2 data keys\n",
        "      \"x_name\": \"name_of_x_value\",\n",
        "      \"x_unit\": \"unit_of_x_value\",\n",
        "      [optional] \"x_multiplier\": \"number\",\n",
        "      [optional] \"x_lim\": [number, number] // restrict how much X axis is shown\n",
        "      \"y_data\": [\"data_key\", \"data_key\"], //here you can include 1 or 2 data keys,\n",
        "      \"y_name\": \"name_of_y_value\",\n",
        "      \"y_unit\": \"unit_of_y_value\",\n",
        "      [optional] \"y_multiplier\": \"number\"\n",
        "      [optional] \"y_lim\": [number, number] // restrict how much Y axis is shown\n",
        "  }\n",
        "  ```\n",
        "---\n",
        "\n",
        "\n",
        "Example config can be viewed below...\n"
      ],
      "metadata": {
        "id": "BgMtvMGYUcre"
      }
    },
    {
      "cell_type": "markdown",
      "source": [
        "## Edit config"
      ],
      "metadata": {
        "id": "DCNjpNsyoNpZ"
      }
    },
    {
      "cell_type": "code",
      "execution_count": null,
      "metadata": {
        "id": "uNqfzRWFFMLc"
      },
      "outputs": [],
      "source": [
        "import json\n",
        "\n",
        "config = {\n",
        "  \"source_path\": \"/content/gdrive/MyDrive/afm\",\n",
        "  \"output_path\": \"/content/gdrive/MyDrive/afm/results\",\n",
        "  \"data\": {\n",
        "    \"def\": [\"Spec\", \"Backward\", \"Deflection\"],\n",
        "    \"def_f\": [\"Spec\", \"Forward\", \"Deflection\"],\n",
        "    \"tip_b\": [\"Spec\", \"Backward\", \"Tip voltage\"],\n",
        "    \"tip_f\": [\"Spec\", \"Forward\", \"Tip voltage\"]\n",
        "  },\n",
        "  \"files\": {\n",
        "    \"voltage\": {\n",
        "      \"data_key\": \"tip_f\",\n",
        "      \"multiplier\": 1,\n",
        "      \"transpose\": \"True\"\n",
        "    }\n",
        "  },\n",
        "  \"plots\": {\n",
        "    \"voltage_amplitude\": {\n",
        "      \"x_data\": [\"tip_b\", \"tip_f\"],\n",
        "      \"x_name\": \"voltage\",\n",
        "      \"x_unit\": \"V\",\n",
        "      \"x_multiplier\": 1,\n",
        "      \"y_data\": [\"def\", \"def_f\"],\n",
        "      \"y_name\": \"amplitude\",\n",
        "      \"y_unit\": \"pN\",\n",
        "      \"y_multiplier\": 1,\n",
        "    }\n",
        "  }\n",
        "}\n",
        "\n",
        "with open('config.json', 'w') as f:\n",
        "    json.dump(config, f)\n"
      ]
    },
    {
      "cell_type": "markdown",
      "source": [
        "# Run the code"
      ],
      "metadata": {
        "id": "7Q6hbUNRWq4o"
      }
    },
    {
      "cell_type": "markdown",
      "source": [
        "## Folder mode"
      ],
      "metadata": {
        "id": "EM1xXGGjoBku"
      }
    },
    {
      "cell_type": "code",
      "source": [
        "!python3 afm-reader/src/runner.py config.json"
      ],
      "metadata": {
        "id": "LqNVVXi0Th3C",
        "colab": {
          "base_uri": "https://localhost:8080/"
        },
        "outputId": "e0f5f46f-34a6-4d67-b661-010077114788"
      },
      "execution_count": null,
      "outputs": [
        {
          "output_type": "stream",
          "name": "stdout",
          "text": [
            "🔍 Watch mode | folder: /content/gdrive/MyDrive/afm\n",
            "🎉 finished processing /content/gdrive/MyDrive/afm/20220315_00010_PFM_Spectroscopy_PVDF_background_.nid\n",
            "🎉 finished processing /content/gdrive/MyDrive/afm/20220315_00011_PFM_Spectroscopy_SiAu_background_.nid\n",
            "Traceback (most recent call last):\n",
            "  File \"/afm-reader/src/afm_watchdog.py\", line 39, in start_watchdog\n",
            "    time.sleep(1)\n",
            "KeyboardInterrupt\n",
            "\n",
            "During handling of the above exception, another exception occurred:\n",
            "\n",
            "Traceback (most recent call last):\n",
            "  File \"afm-reader/src/runner.py\", line 24, in <module>\n",
            "    start_watchdog(config)\n",
            "  File \"/afm-reader/src/afm_watchdog.py\", line 41, in start_watchdog\n",
            "    my_observer.stop()\n",
            "  File \"/usr/local/lib/python3.7/dist-packages/watchdog/observers/api.py\", line 177, in stop\n",
            "    BaseThread.stop(self)\n",
            "  File \"/usr/local/lib/python3.7/dist-packages/watchdog/utils/__init__.py\", line 80, in stop\n",
            "    self._stopped_event.set()\n",
            "  File \"/usr/lib/python3.7/threading.py\", line 521, in set\n",
            "    self._flag = True\n",
            "KeyboardInterrupt\n"
          ]
        }
      ]
    },
    {
      "cell_type": "markdown",
      "source": [
        "## Single file mode"
      ],
      "metadata": {
        "id": "3JIMNRGTn7L1"
      }
    },
    {
      "cell_type": "code",
      "source": [
        "!python3 afm-reader/src/runner.py config.json /content/gdrive/MyDrive/afm/20220315_00011_PFM_Spectroscopy_SiAu_background_.nid"
      ],
      "metadata": {
        "id": "fS2ifJdgnyhZ",
        "colab": {
          "base_uri": "https://localhost:8080/"
        },
        "outputId": "565fc3c6-2cc0-4180-9dc5-c7886a34d0c0"
      },
      "execution_count": null,
      "outputs": [
        {
          "output_type": "stream",
          "name": "stdout",
          "text": [
            "📩 Single run mode | file: /content/gdrive/MyDrive/afm/20220315_00011_PFM_Spectroscopy_SiAu_background_.nid\n",
            "Figure(640x480)\n",
            "Figure(640x480)\n",
            "🎉 finished processing /content/gdrive/MyDrive/afm/20220315_00011_PFM_Spectroscopy_SiAu_background_.nid\n"
          ]
        }
      ]
    }
  ]
}